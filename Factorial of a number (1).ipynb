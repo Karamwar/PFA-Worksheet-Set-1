{
 "cells": [
  {
   "cell_type": "code",
   "execution_count": null,
   "id": "496f6074",
   "metadata": {},
   "outputs": [],
   "source": [
    "Write a python program to find the factorial of a number."
   ]
  },
  {
   "cell_type": "code",
   "execution_count": 2,
   "id": "f51987c7",
   "metadata": {},
   "outputs": [
    {
     "name": "stdout",
     "output_type": "stream",
     "text": [
      "Enter the number: 4\n",
      "The factorial of  0  is  24\n"
     ]
    }
   ],
   "source": [
    "fact = 1\n",
    "num = int (input(\"Enter the number: \"))\n",
    "while num > 0:\n",
    "    fact = fact * num\n",
    "    num = num - 1\n",
    "print (\"The factorial of \", num ,\" is \", fact)"
   ]
  },
  {
   "cell_type": "code",
   "execution_count": 2,
   "id": "13c04535",
   "metadata": {},
   "outputs": [
    {
     "name": "stdout",
     "output_type": "stream",
     "text": [
      "Enter the number: 5\n",
      "The factorial of  5  is  120\n"
     ]
    }
   ],
   "source": [
    "fact = 1\n",
    "num = int (input(\"Enter the number: \"))\n",
    "org = num\n",
    "while num > 0:\n",
    "    fact = fact * num\n",
    "    num = num - 1\n",
    "print (\"The factorial of \", org ,\" is \", fact)"
   ]
  },
  {
   "cell_type": "code",
   "execution_count": null,
   "id": "6e17a46e",
   "metadata": {},
   "outputs": [],
   "source": [
    "Write a python program to find whether a number is prime or composite"
   ]
  },
  {
   "cell_type": "code",
   "execution_count": 3,
   "id": "94ae2366",
   "metadata": {},
   "outputs": [
    {
     "name": "stdout",
     "output_type": "stream",
     "text": [
      "Enter the number: 2\n",
      "The number is prime\n"
     ]
    }
   ],
   "source": [
    "num = int (input(\"Enter the number: \"))\n",
    "flag = 0\n",
    "for i in range(2, num):\n",
    "    if (num % i == 0):\n",
    "        flag = 1\n",
    "        break\n",
    "        \n",
    "if (flag == 0):\n",
    "    print(\"The number is prime\")\n",
    "else:\n",
    "    print(\"The number is composite\")"
   ]
  },
  {
   "cell_type": "code",
   "execution_count": null,
   "id": "77f6450e",
   "metadata": {},
   "outputs": [],
   "source": []
  },
  {
   "cell_type": "code",
   "execution_count": 3,
   "id": "ede48111",
   "metadata": {},
   "outputs": [
    {
     "name": "stdout",
     "output_type": "stream",
     "text": [
      "Enter the number: 14\n",
      "The number is composite\n"
     ]
    }
   ],
   "source": [
    "num = int (input(\"Enter the number: \"))\n",
    "flag = 0\n",
    "for i in range(2, num):\n",
    "    if (num % i == 0):\n",
    "        flag = 1\n",
    "        break\n",
    "        \n",
    "if (flag == 0):\n",
    "    print(\"The number is prime\")\n",
    "else:\n",
    "    print(\"The number is composite\")"
   ]
  },
  {
   "cell_type": "code",
   "execution_count": null,
   "id": "c8f6c450",
   "metadata": {},
   "outputs": [],
   "source": [
    "Write a python program to check whether a given string is palindrome or not"
   ]
  },
  {
   "cell_type": "code",
   "execution_count": null,
   "id": "88a818ac",
   "metadata": {},
   "outputs": [],
   "source": [
    "num = 123\n",
    "\n",
    "if num == rev\n",
    "    palindrome\n",
    "else\n",
    "    Not a palindrome\n",
    "    \n",
    "    \n",
    "rev = 0\n",
    "\n",
    "Iteration 1\n",
    "\n",
    "rem = num % 10 = 123 % 10 = 3\n",
    "rev = rev * 10 + rem = 3\n",
    "num = num // 10 = 123 // 10 = 12\n",
    "\n",
    "Iteration 2\n",
    "\n",
    "rem = num % 10 = 12 % 10 = 2\n",
    "rev = rev * 10 + rem = 30 + 2 = 32\n",
    "num = num // 10 = 12 // 10 = 1\n",
    "\n",
    "Iteration 3\n",
    "\n",
    "rem = num % 10 = 1 % 10 = 1\n",
    "rev = rev * 10 + rem = 320 + 1 = 321\n",
    "num = num // 10 = 1 // 10 = 0\n",
    "\n",
    "  "
   ]
  },
  {
   "cell_type": "code",
   "execution_count": 3,
   "id": "e4abf70c",
   "metadata": {},
   "outputs": [
    {
     "name": "stdout",
     "output_type": "stream",
     "text": [
      "Enter the number:313\n",
      "The reverse of  313 is  313\n",
      "The number  313 is Palindrome\n"
     ]
    }
   ],
   "source": [
    "num = int (input(\"Enter the number:\"))\n",
    "org = num\n",
    "rev = 0\n",
    "\n",
    "while num > 0:\n",
    "    rem = num % 10\n",
    "    rev = rev * 10 + rem\n",
    "    num = num // 10\n",
    "    \n",
    "print (\"The reverse of \", org, \"is \", rev)\n",
    "if rev == org:\n",
    "    print (\"The number \",org,\"is Palindrome\")\n",
    "else:\n",
    "    print (\"The number \", org, \"is not a Palindrome\")"
   ]
  },
  {
   "cell_type": "code",
   "execution_count": null,
   "id": "88717f30",
   "metadata": {},
   "outputs": [],
   "source": [
    "Write a Python program to get the third side of right-angled triangle from two given sides"
   ]
  },
  {
   "cell_type": "code",
   "execution_count": 8,
   "id": "20489cc4",
   "metadata": {},
   "outputs": [
    {
     "name": "stdout",
     "output_type": "stream",
     "text": [
      "Input lengths of shorter triangle sides:\n",
      "a : 3\n",
      "b : 4\n"
     ]
    },
    {
     "ename": "NameError",
     "evalue": "name 'B' is not defined",
     "output_type": "error",
     "traceback": [
      "\u001b[1;31m---------------------------------------------------------------------------\u001b[0m",
      "\u001b[1;31mNameError\u001b[0m                                 Traceback (most recent call last)",
      "\u001b[1;32m<ipython-input-8-ce1c834ff36e>\u001b[0m in \u001b[0;36m<module>\u001b[1;34m\u001b[0m\n\u001b[0;32m      3\u001b[0m \u001b[0ma\u001b[0m \u001b[1;33m=\u001b[0m \u001b[0mfloat\u001b[0m\u001b[1;33m(\u001b[0m\u001b[0minput\u001b[0m\u001b[1;33m(\u001b[0m\u001b[1;34m\"a : \"\u001b[0m\u001b[1;33m)\u001b[0m\u001b[1;33m)\u001b[0m\u001b[1;33m\u001b[0m\u001b[1;33m\u001b[0m\u001b[0m\n\u001b[0;32m      4\u001b[0m \u001b[0mb\u001b[0m \u001b[1;33m=\u001b[0m \u001b[0mfloat\u001b[0m\u001b[1;33m(\u001b[0m\u001b[0minput\u001b[0m\u001b[1;33m(\u001b[0m\u001b[1;34m\"b : \"\u001b[0m\u001b[1;33m)\u001b[0m\u001b[1;33m)\u001b[0m\u001b[1;33m\u001b[0m\u001b[1;33m\u001b[0m\u001b[0m\n\u001b[1;32m----> 5\u001b[1;33m \u001b[0mc\u001b[0m \u001b[1;33m=\u001b[0m \u001b[0msqrt\u001b[0m\u001b[1;33m(\u001b[0m\u001b[0ma\u001b[0m\u001b[1;33m**\u001b[0m\u001b[1;36m2\u001b[0m \u001b[1;33m+\u001b[0m \u001b[0mB\u001b[0m\u001b[1;33m**\u001b[0m\u001b[1;36m2\u001b[0m\u001b[1;33m)\u001b[0m\u001b[1;33m\u001b[0m\u001b[1;33m\u001b[0m\u001b[0m\n\u001b[0m\u001b[0;32m      6\u001b[0m \u001b[0mprint\u001b[0m\u001b[1;33m(\u001b[0m\u001b[1;34m\"The length of the hypotenuse is:\"\u001b[0m\u001b[1;33m,\u001b[0m\u001b[0mc\u001b[0m\u001b[1;33m)\u001b[0m\u001b[1;33m\u001b[0m\u001b[1;33m\u001b[0m\u001b[0m\n",
      "\u001b[1;31mNameError\u001b[0m: name 'B' is not defined"
     ]
    }
   ],
   "source": [
    "from math import sqrt\n",
    "print(\"Input lengths of shorter triangle sides:\")\n",
    "a = float(input(\"a : \"))\n",
    "b = float(input(\"b : \"))\n",
    "c = sqrt(a**2 + B**2)\n",
    "print(\"The length of the hypotenuse is:\",c)"
   ]
  },
  {
   "cell_type": "code",
   "execution_count": 7,
   "id": "42169974",
   "metadata": {},
   "outputs": [
    {
     "name": "stdout",
     "output_type": "stream",
     "text": [
      "Input lengths of shorter triangle sides:\n",
      "a : 3\n",
      "b : 4\n",
      "The length of the hypotenuse is: 5.0\n"
     ]
    }
   ],
   "source": [
    "from math import sqrt\n",
    "print(\"Input lengths of shorter triangle sides:\")\n",
    "a = float(input(\"a : \"))\n",
    "b = float(input(\"b : \"))\n",
    "c = sqrt(a**2 + b**2)\n",
    "print(\"The length of the hypotenuse is:\",c)"
   ]
  },
  {
   "cell_type": "code",
   "execution_count": null,
   "id": "049126c8",
   "metadata": {},
   "outputs": [],
   "source": [
    "Write a python program to print the frequency of each of the characters present in a given string"
   ]
  },
  {
   "cell_type": "code",
   "execution_count": 12,
   "id": "f32ae70c",
   "metadata": {
    "scrolled": true
   },
   "outputs": [
    {
     "name": "stdout",
     "output_type": "stream",
     "text": [
      "Enter the stringaassddddffffffffff\n",
      "{'a': 2, 's': 2, 'd': 4, 'f': 10}\n"
     ]
    }
   ],
   "source": [
    "str1 = input (\"Enter the string\")\n",
    "d1 = dict()\n",
    "for c in str1:\n",
    "    if c in d1:\n",
    "        d1[c] = d1[c] + 1\n",
    "    else:\n",
    "        d1[c]=1\n",
    "print (d1)"
   ]
  },
  {
   "cell_type": "code",
   "execution_count": null,
   "id": "c9ef7f07",
   "metadata": {},
   "outputs": [],
   "source": []
  }
 ],
 "metadata": {
  "kernelspec": {
   "display_name": "Python 3",
   "language": "python",
   "name": "python3"
  },
  "language_info": {
   "codemirror_mode": {
    "name": "ipython",
    "version": 3
   },
   "file_extension": ".py",
   "mimetype": "text/x-python",
   "name": "python",
   "nbconvert_exporter": "python",
   "pygments_lexer": "ipython3",
   "version": "3.8.8"
  }
 },
 "nbformat": 4,
 "nbformat_minor": 5
}
